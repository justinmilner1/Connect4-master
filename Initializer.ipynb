{
 "cells": [
  {
   "cell_type": "code",
   "execution_count": 12,
   "id": "comfortable-carroll",
   "metadata": {},
   "outputs": [
    {
     "name": "stdout",
     "output_type": "stream",
     "text": [
      "main ran\n",
      "2021-12-06 21:53:51.979588: I tensorflow/compiler/jit/xla_cpu_device.cc:41] Not creating XLA devices, tf_xla_enable_xla_devices not set\n",
      "2021-12-06 21:53:51.979823: I tensorflow/core/platform/cpu_feature_guard.cc:142] This TensorFlow binary is optimized with oneAPI Deep Neural Network Library (oneDNN) to use the following CPU instructions in performance-critical operations:  AVX2 AVX512F FMA\n",
      "To enable them in other operations, rebuild TensorFlow with the appropriate compiler flags.\n",
      "/Users/justinmilner/opt/anaconda3/lib/python3.8/site-packages/tensorflow/python/keras/legacy_tf_layers/core.py:171: UserWarning: `tf.layers.dense` is deprecated and will be removed in a future version. Please use `tf.keras.layers.Dense` instead.\n",
      "  warnings.warn('`tf.layers.dense` is deprecated and '\n",
      "/Users/justinmilner/opt/anaconda3/lib/python3.8/site-packages/tensorflow/python/keras/engine/base_layer_v1.py:1719: UserWarning: `layer.apply` is deprecated and will be removed in a future version. Please use `layer.__call__` method instead.\n",
      "  warnings.warn('`layer.apply` is deprecated and '\n",
      "2021-12-06 21:53:52.515143: I tensorflow/compiler/mlir/mlir_graph_optimization_pass.cc:196] None of the MLIR optimization passes are enabled (registered 0 passes)\n",
      "player 2 will be drunk\n",
      "Game: 100 | Number of Trainings: 127,0 | Epsilon: 0.01 | Average Rewards - player_1: -1881.44, player_2: -0.06\n",
      "Training took 0:05 minutes\n",
      "Figure(640x480)\n",
      "Figure(640x480)\n",
      "Figure(640x480)\n",
      "Figure(640x480)\n",
      "Figure(640x480)\n",
      "Figure(640x480)\n",
      "Figure(640x480)\n",
      "Figure(640x480)\n",
      "face off!\n",
      "Loading player Q [./models/checkpoint/0]...\n",
      "Traceback (most recent call last):\n",
      "  File \"main.py\", line 312, in <module>\n",
      "    face_off(['./models/checkpoint', './models/trained_together'])\n",
      "  File \"main.py\", line 266, in face_off\n",
      "    p1.restore('{}/{}.ckpt'.format(p1_dir,p1_name))\n",
      "  File \"/Users/justinmilner/Desktop/tic_tac_toe-master-_v2/players.py\", line 143, in restore\n",
      "    saver.restore(self.session, filename)\n",
      "  File \"/Users/justinmilner/opt/anaconda3/lib/python3.8/site-packages/tensorflow/python/training/saver.py\", line 1289, in restore\n",
      "    raise ValueError(\"The passed save_path is not a valid checkpoint: \" +\n",
      "ValueError: The passed save_path is not a valid checkpoint: ./models/checkpoint/0/Q.ckpt\n"
     ]
    }
   ],
   "source": [
    "%matplotlib inline\n",
    "! python main.py"
   ]
  },
  {
   "cell_type": "code",
   "execution_count": null,
   "id": "designing-festival",
   "metadata": {},
   "outputs": [],
   "source": []
  }
 ],
 "metadata": {
  "kernelspec": {
   "display_name": "Python 3",
   "language": "python",
   "name": "python3"
  },
  "language_info": {
   "codemirror_mode": {
    "name": "ipython",
    "version": 3
   },
   "file_extension": ".py",
   "mimetype": "text/x-python",
   "name": "python",
   "nbconvert_exporter": "python",
   "pygments_lexer": "ipython3",
   "version": "3.8.3"
  }
 },
 "nbformat": 4,
 "nbformat_minor": 5
}
